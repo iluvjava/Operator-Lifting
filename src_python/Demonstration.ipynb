{
 "cells": [
  {
   "cell_type": "markdown",
   "metadata": {},
   "source": [
    "### **Presenting the Results**\n",
    "\n",
    "Most of the implementations are in the script file, here we just assemble everything together and present the results for view. \n",
    "This is necessary since the script is very long. \n",
    "Run the cell below to import everthing from the pre-cooked script file. \n",
    "\n"
   ]
  },
  {
   "cell_type": "code",
   "execution_count": 1,
   "metadata": {},
   "outputs": [
    {
     "data": {
      "text/plain": [
       "<contextlib._GeneratorContextManager at 0x1041a2970>"
      ]
     },
     "execution_count": 1,
     "metadata": {},
     "output_type": "execute_result"
    }
   ],
   "source": [
    "from sqp import *\n",
    "\n",
    "TESTSTRING = \"02002102000101000000102002110000021102201100000121101100102200102212002011112010100202020220021011110001020002102020211001102210020111001100000102100022100110201210022100020000101002210202100021000220220211202211110002221011010211000211202201021002102200012201101110222110002022012210202020020102100202211110202001122020000110020222220022110010020002102120002010010000211002021102102121210202221122000110202101020002020022200021000211020211022210200121022200010211002201101110220220110202110202210020212102102120002210002202112110210020001010002002000202102121222022121022201210211202020022100222101102112100221202021001010211020210102110202211200202000000000022102020000021111220012110201121010002002020000120200222022110202011002101002110010002120221100011000002100220222202021110222102200022001101011122021021111120021100010210222100222110202210102002221000021202020210200201101001120002211121011000212002000122022200121011120000210111011111020112221002002202\"\n",
    "# TESTSTRING = TESTSTRING[:40]\n",
    "np.printoptions(suppress=True)\n"
   ]
  },
  {
   "cell_type": "markdown",
   "metadata": {},
   "source": [
    "The following code uses what is written in the script file and call the SLSQP solver from scipy and solve the problem for a specific strings. "
   ]
  },
  {
   "cell_type": "code",
   "execution_count": 2,
   "metadata": {},
   "outputs": [],
   "source": [
    "def run_sqp(test_string, lmbd):\n",
    "    global pbm\n",
    "    pbm = ProblemModelingSQP(test_string, lmbd=lmbd)\n",
    "    n = len(pbm.States)\n",
    "    # Functional representation of Constraints =================================\n",
    "    ineq_cons = {'type': 'ineq',\n",
    "            'fun' : pbm.IneqCon,\n",
    "            'jac' : pbm.IneqJac\n",
    "        }\n",
    "    eq_cons = {'type': 'eq',\n",
    "            'fun' : pbm.EqnCon,\n",
    "            'jac' : pbm.EqnJac\n",
    "        }\n",
    "    l = pbm.CRowsCount + len(pbm.TransFreqasVec)\n",
    "    bounds = scipy.optimize.Bounds(\n",
    "        np.zeros(l), np.full(l, np.inf)\n",
    "    )\n",
    "    # the objective function and gradient ======================================\n",
    "    objfxn = pbm.ObjFxn\n",
    "    objgrad = pbm.ObjGrad\n",
    "    # initial Guess ============================================================\n",
    "    C = pbm.ConstraintMatrixC\n",
    "    x0 = pbm.TransitionMatrix.reshape(-1)\n",
    "    # x0 = np.random.rand(n**2)\n",
    "    x0 = np.hstack((x0, np.dot(C, x0))).copy()\n",
    "    global res\n",
    "    res = scipy.optimize.minimize(\n",
    "            objfxn, x0, method='SLSQP', jac=objgrad,\n",
    "            constraints=[eq_cons, ineq_cons], \n",
    "            options={'ftol': 1e-10,'disp': 2, \"maxiter\":5000},\n",
    "            bounds=bounds, \n",
    "        )\n",
    "    M = res.x[:n**2].reshape((n, n))\n",
    "    return M, pbm.TransitionMatrix\n"
   ]
  },
  {
   "cell_type": "markdown",
   "metadata": {},
   "source": [
    "The above function takes in a test string consist of characters representing the observed states from a markov chain. \n",
    "It will print out the optimize state transition matrix. \n",
    "It returns the optimize state transition matrix together with the original state transition matrix estimated via MLE. \n",
    "It setup the problem using the code written in the imported script, and then it solves using the `scipy.optimize.minimize` module using sequential quadratic programming. \n",
    "Each time the funtion is evaluated, it prints out the objective value of the function and a timestep accurated to miliseconds. \n",
    "In the cell below, we test it with some basic input. "
   ]
  },
  {
   "cell_type": "code",
   "execution_count": 3,
   "metadata": {},
   "outputs": [
    {
     "name": "stderr",
     "output_type": "stream",
     "text": [
      "/Users/hongdali/Desktop/repos/Operator-Lifting/src_python/sqp.py:130: RuntimeWarning: divide by zero encountered in log\n",
      "  return x1*np.log(x2)\n"
     ]
    },
    {
     "name": "stdout",
     "output_type": "stream",
     "text": [
      "Optimization terminated successfully    (Exit mode 0)\n",
      "            Current function value: 9.546401915597745\n",
      "            Iterations: 2160\n",
      "            Function evaluations: 23572\n",
      "            Gradient evaluations: 2157\n",
      "The original MLE estimated transition matrix is: \n"
     ]
    },
    {
     "data": {
      "text/plain": [
       "array([[0.40342298, 0.42298289, 0.17359413],\n",
       "       [0.38566553, 0.27645051, 0.33788396],\n",
       "       [0.5019305 , 0.15444015, 0.34362934]])"
      ]
     },
     "metadata": {},
     "output_type": "display_data"
    },
    {
     "name": "stdout",
     "output_type": "stream",
     "text": [
      "The New Transiiton Matrix after the SQP is: \n"
     ]
    },
    {
     "data": {
      "text/plain": [
       "array([[4.65870248e-05, 1.49967225e-05, 9.99938416e-01],\n",
       "       [2.41715412e-05, 9.99947419e-01, 2.84091937e-05],\n",
       "       [1.23959371e-07, 9.92635645e-01, 7.36423146e-03]])"
      ]
     },
     "metadata": {},
     "output_type": "display_data"
    },
    {
     "name": "stdout",
     "output_type": "stream",
     "text": [
      "Eqn con rhs: \n",
      "[5.99520433e-15 5.10702591e-15 7.26751992e-13]\n",
      "Ineq con rhs: \n",
      "[1.41036081e-10 9.99891831e-02 1.04755956e-10 9.99900833e-02\n",
      " 1.34765529e-10 6.14794940e-09 9.92589163e-02 7.43826719e-04\n",
      " 9.99923420e-02 9.17614670e-07 9.99932424e-02 1.34141574e-06\n",
      " 3.15027367e-07 9.92620755e-02 7.49509193e-04 2.44105009e-10\n",
      " 9.00399181e-07 1.61831919e-10 6.22591669e-09 6.80598769e-06\n",
      " 4.73886069e-09 9.99923249e-02 4.23928472e-07 6.13858888e-09\n",
      " 9.92611579e-02 7.77192277e-04 1.14705224e-10 6.10266612e-09\n",
      " 2.17607485e-05 4.59035820e-09 6.16896876e-09 9.92607343e-02\n",
      " 7.46297093e-04 9.92635688e-02 7.46363175e-04 1.50516083e-08\n",
      " 3.15917127e-06 1.57668272e-10 2.24165312e-06 8.83944699e-11\n",
      " 1.81791787e-06 4.65245449e-06 1.05678520e-08 1.20622756e-05\n",
      " 7.95026961e-11 1.32797661e-10 1.49151587e-10 1.68616675e-10\n",
      " 1.80230368e-06 1.06912027e-08 1.45857193e-05 9.99914247e-02\n",
      " 9.79470786e-11 9.99910009e-02 9.99938355e-02 7.37083155e-04\n",
      " 9.92574232e-02 1.53085123e-10 1.63217491e-10 2.41089677e-06\n",
      " 1.06152440e-08 4.31862855e-05 9.99919011e-02 9.99947356e-02\n",
      " 7.52938217e-04 9.92583234e-02 2.83469240e-06 1.07129263e-08\n",
      " 1.27148668e-05 1.67730422e-08 9.95242564e-06 9.85271564e-02]\n"
     ]
    }
   ],
   "source": [
    "M, StateTransMatrix = run_sqp(TESTSTRING, 0.05)\n",
    "res\n",
    "print(\"The original MLE estimated transition matrix is: \")\n",
    "display(StateTransMatrix)\n",
    "print(\"The New Transiiton Matrix after the SQP is: \")\n",
    "display(M)\n",
    "print(\"Eqn con rhs: \")\n",
    "print(pbm.EqnCon(res.x))\n",
    "print(\"Ineq con rhs: \")\n",
    "print(pbm.IneqCon(res.x))"
   ]
  },
  {
   "cell_type": "markdown",
   "metadata": {},
   "source": [
    "We now decrease the value of lamabda, the reguarlizatin term and see how it affects the results of the transition matrix. "
   ]
  },
  {
   "cell_type": "code",
   "execution_count": 4,
   "metadata": {},
   "outputs": [
    {
     "name": "stdout",
     "output_type": "stream",
     "text": [
      "Positive directional derivative for linesearch    (Exit mode 8)\n",
      "            Current function value: 12.451073735946569\n",
      "            Iterations: 732\n",
      "            Function evaluations: 7603\n",
      "            Gradient evaluations: 728\n",
      "The original MLE estimated transition matrix is: \n"
     ]
    },
    {
     "data": {
      "text/plain": [
       "array([[0.40342298, 0.42298289, 0.17359413],\n",
       "       [0.38566553, 0.27645051, 0.33788396],\n",
       "       [0.5019305 , 0.15444015, 0.34362934]])"
      ]
     },
     "metadata": {},
     "output_type": "display_data"
    },
    {
     "name": "stdout",
     "output_type": "stream",
     "text": [
      "The New Transiiton Matrix after the SQP is: \n"
     ]
    },
    {
     "data": {
      "text/plain": [
       "array([[1.48504462e-08, 1.84798052e-07, 9.99999800e-01],\n",
       "       [6.37301658e-06, 9.97206353e-01, 2.78727430e-03],\n",
       "       [2.25450235e-08, 9.99999955e-01, 2.26052620e-08]])"
      ]
     },
     "metadata": {},
     "output_type": "display_data"
    }
   ],
   "source": [
    "M, StateTransMatrix = run_sqp(TESTSTRING, 0.03)\n",
    "res\n",
    "print(\"The original MLE estimated transition matrix is: \")\n",
    "display(StateTransMatrix)\n",
    "print(\"The New Transiiton Matrix after the SQP is: \")\n",
    "display(M)\n"
   ]
  },
  {
   "cell_type": "code",
   "execution_count": 5,
   "id": "bf53da71",
   "metadata": {},
   "outputs": [
    {
     "data": {
      "text/plain": [
       " message: Positive directional derivative for linesearch\n",
       " success: False\n",
       "  status: 8\n",
       "     fun: 12.451073735946569\n",
       "       x: [ 1.485e-08  1.848e-07 ...  2.766e-09  3.000e-02]\n",
       "     nit: 732\n",
       "     jac: [-8.649e-08 -1.027e-06 ...  1.000e+00  1.000e+00]\n",
       "    nfev: 7603\n",
       "    njev: 728"
      ]
     },
     "execution_count": 5,
     "metadata": {},
     "output_type": "execute_result"
    }
   ],
   "source": [
    "res"
   ]
  },
  {
   "cell_type": "code",
   "execution_count": null,
   "id": "e264ac26",
   "metadata": {},
   "outputs": [],
   "source": []
  }
 ],
 "metadata": {
  "kernelspec": {
   "display_name": "Python 3",
   "language": "python",
   "name": "python3"
  },
  "language_info": {
   "codemirror_mode": {
    "name": "ipython",
    "version": 3
   },
   "file_extension": ".py",
   "mimetype": "text/x-python",
   "name": "python",
   "nbconvert_exporter": "python",
   "pygments_lexer": "ipython3",
   "version": "3.8.18"
  }
 },
 "nbformat": 4,
 "nbformat_minor": 5
}
