{
 "cells": [
  {
   "cell_type": "markdown",
   "metadata": {},
   "source": [
    "### **Presenting the Results**\n",
    "\n",
    "Most of the implementations are in the script file, here we just assemble everything together and present the results for view. \n",
    "This is necessary since the script is very long. \n",
    "Run the cell below to import everthing from the pre-cooked script file. \n",
    "\n"
   ]
  },
  {
   "cell_type": "code",
   "execution_count": 23,
   "metadata": {},
   "outputs": [
    {
     "data": {
      "text/plain": [
       "<contextlib._GeneratorContextManager at 0x103ca78e0>"
      ]
     },
     "execution_count": 23,
     "metadata": {},
     "output_type": "execute_result"
    }
   ],
   "source": [
    "from sqp import *\n",
    "\n",
    "TESTSTRING = \"02002102000101000000102002110000021102201100000121101100102200102212002011112010100202020220021011110001020002102020211001102210020111001100000102100022100110201210022100020000101002210202100021000220220211202211110002221011010211000211202201021002102200012201101110222110002022012210202020020102100202211110202001122020000110020222220022110010020002102120002010010000211002021102102121210202221122000110202101020002020022200021000211020211022210200121022200010211002201101110220220110202110202210020212102102120002210002202112110210020001010002002000202102121222022121022201210211202020022100222101102112100221202021001010211020210102110202211200202000000000022102020000021111220012110201121010002002020000120200222022110202011002101002110010002120221100011000002100220222202021110222102200022001101011122021021111120021100010210222100222110202210102002221000021202020210200201101001120002211121011000212002000122022200121011120000210111011111020112221002002202\"\n",
    "TESTSTRING = TESTSTRING[:20]\n",
    "numpy.printoptions(suppress=True)"
   ]
  },
  {
   "cell_type": "markdown",
   "metadata": {},
   "source": [
    "The following code uses what is written in the script file and call the SLSQP solver from scipy and solve the problem for a specific strings. "
   ]
  },
  {
   "cell_type": "code",
   "execution_count": 24,
   "metadata": {},
   "outputs": [],
   "source": [
    "def run_sqp(test_string, lmbd):\n",
    "    global pbm\n",
    "    pbm = ProblemModelingSQP(test_string, lmbd=lmbd)\n",
    "    n = len(pbm.States)\n",
    "    # Functional representation of Constraints =================================\n",
    "    ineq_cons = {'type': 'ineq',\n",
    "            'fun' : pbm.IneqCon,\n",
    "            'jac' : pbm.IneqJac\n",
    "        }\n",
    "    eq_cons = {'type': 'eq',\n",
    "            'fun' : pbm.EqnCon,\n",
    "            'jac' : pbm.EqnJac\n",
    "        }\n",
    "    l = pbm.CRowsCount + len(pbm.TransFreqasVec)\n",
    "    bounds = scipy.optimize.Bounds(\n",
    "        np.zeros(l), np.full(l, np.inf)\n",
    "    )\n",
    "    # the objective function and gradient ======================================\n",
    "    objfxn = pbm.ObjFxn\n",
    "    objgrad = pbm.ObjGrad\n",
    "    # initial Guess ============================================================\n",
    "    C = pbm.ConstraintMatrixC\n",
    "    # x0 = pbm.TransitionMatrix.reshape(-1)\n",
    "    x0 = np.random.rand(n**2)\n",
    "    x0 = np.hstack((x0, np.dot(C, x0))).copy()\n",
    "    global res\n",
    "    res = scipy.optimize.minimize(\n",
    "            objfxn, x0, method='SLSQP', jac=objgrad,\n",
    "            constraints=[eq_cons, ineq_cons], \n",
    "            options={'ftol': 1e-8, 'disp': True, \"maxiter\":500},\n",
    "            bounds=bounds, \n",
    "        )\n",
    "    M = res.x[:n**2].reshape((n, n))\n",
    "    return M, pbm.TransitionMatrix\n"
   ]
  },
  {
   "cell_type": "markdown",
   "metadata": {},
   "source": [
    "The above function takes in a test string consist of characters representing the observed states from a markov chain. \n",
    "It will print out the optimize state transition matrix. \n",
    "It returns the optimize state transition matrix together with the original state transition matrix estimated via MLE. \n",
    "It setup the problem using the code written in the imported script, and then it solves using the `scipy.optimize.minimize` module using sequential quadratic programming. \n",
    "Each time the funtion is evaluated, it prints out the objective value of the function and a timestep accurated to miliseconds. \n",
    "In the cell below, we test it with some basic input. "
   ]
  },
  {
   "cell_type": "code",
   "execution_count": 25,
   "metadata": {},
   "outputs": [
    {
     "name": "stdout",
     "output_type": "stream",
     "text": [
      "[2024-02-06 05:03:05.485] Objective Fxn Value = 15.524919841234642\n",
      "Inequality constraints incompatible    (Exit mode 4)\n",
      "            Current function value: 15.524919841234642\n",
      "            Iterations: 1\n",
      "            Function evaluations: 1\n",
      "            Gradient evaluations: 1\n",
      "The original MLE estimated transition matrix is: \n"
     ]
    },
    {
     "name": "stderr",
     "output_type": "stream",
     "text": [
      "/Users/hongdali/Desktop/repos/Operator-Lifting/src_python/sqp.py:216: RuntimeWarning: divide by zero encountered in scalar divide\n",
      "  return x1/x2\n"
     ]
    },
    {
     "data": {
      "text/plain": [
       "array([[0.        , 1.        , 0.        ],\n",
       "       [0.15384615, 0.61538462, 0.23076923],\n",
       "       [0.33333333, 0.66666667, 0.        ]])"
      ]
     },
     "metadata": {},
     "output_type": "display_data"
    },
    {
     "name": "stdout",
     "output_type": "stream",
     "text": [
      "The New Transiiton Matrix after the SQP is: \n"
     ]
    },
    {
     "data": {
      "text/plain": [
       "array([[0.08411812, 0.92080801, 0.45875018],\n",
       "       [0.74091859, 0.42199995, 0.92126459],\n",
       "       [0.54197698, 0.031475  , 0.32228115]])"
      ]
     },
     "metadata": {},
     "output_type": "display_data"
    }
   ],
   "source": [
    "M, StateTransMatrix = run_sqp(TESTSTRING, 0.000)\n",
    "res\n",
    "print(\"The original MLE estimated transition matrix is: \")\n",
    "display(StateTransMatrix)\n",
    "print(\"The New Transiiton Matrix after the SQP is: \")\n",
    "display(M)"
   ]
  },
  {
   "cell_type": "markdown",
   "metadata": {},
   "source": [
    "We now decrease the value of lamabda, the reguarlizatin term and see how it affects the results of the transition matrix. "
   ]
  },
  {
   "cell_type": "code",
   "execution_count": 26,
   "metadata": {},
   "outputs": [
    {
     "name": "stdout",
     "output_type": "stream",
     "text": [
      "[2024-02-06 05:03:05.501] Objective Fxn Value = 19.13555976578798\n",
      "Inequality constraints incompatible    (Exit mode 4)\n",
      "            Current function value: 19.13555976578798\n",
      "            Iterations: 1\n",
      "            Function evaluations: 1\n",
      "            Gradient evaluations: 1\n",
      "The original MLE estimated transition matrix is: \n"
     ]
    },
    {
     "data": {
      "text/plain": [
       "array([[0.        , 1.        , 0.        ],\n",
       "       [0.15384615, 0.61538462, 0.23076923],\n",
       "       [0.33333333, 0.66666667, 0.        ]])"
      ]
     },
     "metadata": {},
     "output_type": "display_data"
    },
    {
     "name": "stdout",
     "output_type": "stream",
     "text": [
      "The New Transiiton Matrix after the SQP is: \n"
     ]
    },
    {
     "data": {
      "text/plain": [
       "array([[0.00766717, 0.32811193, 0.03268584],\n",
       "       [0.09324308, 0.49884765, 0.57638589],\n",
       "       [0.30565607, 0.71184944, 0.71684003]])"
      ]
     },
     "metadata": {},
     "output_type": "display_data"
    }
   ],
   "source": [
    "M, StateTransMatrix = run_sqp(TESTSTRING, 0.5)\n",
    "res\n",
    "print(\"The original MLE estimated transition matrix is: \")\n",
    "display(StateTransMatrix)\n",
    "print(\"The New Transiiton Matrix after the SQP is: \")\n",
    "display(M)\n"
   ]
  },
  {
   "cell_type": "code",
   "execution_count": 27,
   "id": "d34acc53",
   "metadata": {},
   "outputs": [
    {
     "data": {
      "text/plain": [
       "(array([1.99196035e+02, 1.28196558e+02, 6.70985579e+01, 3.32903608e+01,\n",
       "        1.89796007e+01, 1.60292625e-14, 5.83064080e+00, 1.15763387e+01,\n",
       "        1.89796007e+01]),\n",
       " array([[ 2.83803826e-04, -3.86296708e-02, -1.42183011e-01,\n",
       "          3.53150451e-01,  8.16496581e-01, -3.33333333e-01,\n",
       "         -2.08815589e-01, -1.79428789e-01,  2.48281085e-01],\n",
       "        [-2.01887081e-03,  7.98151201e-05,  3.49254503e-04,\n",
       "          7.27802998e-04, -1.96266703e-16, -3.33333333e-01,\n",
       "          8.61735731e-01, -3.82486189e-01, -2.93817364e-16],\n",
       "        [ 2.83803826e-04, -3.86296708e-02, -1.42183011e-01,\n",
       "          3.53150451e-01, -4.08248290e-01, -3.33333333e-01,\n",
       "         -2.08815589e-01, -1.79428789e-01, -7.97763120e-01],\n",
       "        [ 6.01098185e-04,  6.85444694e-01,  5.78240892e-01,\n",
       "         -1.82564334e-01, -2.69144149e-18, -3.33333333e-01,\n",
       "         -1.86337143e-01, -1.28997299e-01,  1.14891261e-16],\n",
       "        [-7.09420031e-01,  2.68352474e-04,  1.01663484e-02,\n",
       "          7.59039505e-02, -3.56248421e-17, -3.33333333e-01,\n",
       "          1.36096996e-01,  6.01019867e-01, -5.65119736e-17],\n",
       "        [ 1.29618659e-03, -7.11194670e-01,  4.55492776e-01,\n",
       "         -3.65933224e-01,  1.06932286e-16, -3.33333333e-01,\n",
       "         -1.75272306e-01, -1.04824499e-01,  1.23638492e-16],\n",
       "        [ 3.91967718e-03,  1.41034800e-01, -6.30280910e-01,\n",
       "         -6.68110212e-01,  5.05925749e-16, -3.33333333e-01,\n",
       "         -1.50812182e-01, -5.11186363e-02,  2.73088151e-16],\n",
       "        [ 7.04770528e-01,  2.56020981e-04,  1.25806723e-02,\n",
       "          8.05246627e-02, -1.95488654e-16, -3.33333333e-01,\n",
       "          1.41035670e-01,  6.04693121e-01, -1.75751672e-16],\n",
       "        [ 2.83803826e-04, -3.86296708e-02, -1.42183011e-01,\n",
       "          3.53150451e-01, -4.08248290e-01, -3.33333333e-01,\n",
       "         -2.08815589e-01, -1.79428789e-01,  5.49482035e-01]]))"
      ]
     },
     "execution_count": 27,
     "metadata": {},
     "output_type": "execute_result"
    }
   ],
   "source": [
    "np.linalg.eig(np.dot(pbm.ConstraintMatrixC.transpose(), pbm.ConstraintMatrixC))"
   ]
  },
  {
   "cell_type": "code",
   "execution_count": null,
   "id": "bf53da71",
   "metadata": {},
   "outputs": [],
   "source": []
  }
 ],
 "metadata": {
  "kernelspec": {
   "display_name": "Python 3",
   "language": "python",
   "name": "python3"
  },
  "language_info": {
   "codemirror_mode": {
    "name": "ipython",
    "version": 3
   },
   "file_extension": ".py",
   "mimetype": "text/x-python",
   "name": "python",
   "nbconvert_exporter": "python",
   "pygments_lexer": "ipython3",
   "version": "3.8.18"
  }
 },
 "nbformat": 4,
 "nbformat_minor": 5
}
