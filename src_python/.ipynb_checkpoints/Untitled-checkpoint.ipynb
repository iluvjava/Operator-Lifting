{
 "cells": [
  {
   "cell_type": "code",
   "execution_count": null,
   "id": "a2d27ab4-d698-4bf2-963b-8920072800d8",
   "metadata": {},
   "outputs": [],
   "source": []
  }
 ],
 "metadata": {
  "kernelspec": {
   "display_name": "",
   "name": ""
  },
  "language_info": {
   "name": ""
  }
 },
 "nbformat": 4,
 "nbformat_minor": 5
}
